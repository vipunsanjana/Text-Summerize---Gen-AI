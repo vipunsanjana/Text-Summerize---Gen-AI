{
 "cells": [
  {
   "cell_type": "code",
   "execution_count": 2,
   "metadata": {},
   "outputs": [],
   "source": [
    "from youtube_transcript_api import YouTubeTranscriptApi\n",
    "from youtube_transcript_api._errors import TranscriptsDisabled, NoTranscriptFound\n",
    "import gradio as gr\n",
    "import torch\n",
    "from transformers import pipeline\n"
   ]
  },
  {
   "cell_type": "code",
   "execution_count": 3,
   "metadata": {},
   "outputs": [],
   "source": [
    "def chunk_text(input_text, chunk_size=1024):\n",
    "    return [input_text[i:i + chunk_size] for i in range(0, len(input_text), chunk_size)]"
   ]
  },
  {
   "cell_type": "code",
   "execution_count": 4,
   "metadata": {},
   "outputs": [
    {
     "name": "stderr",
     "output_type": "stream",
     "text": [
      "Device set to use cuda:0\n"
     ]
    }
   ],
   "source": [
    "model_path = r\"model\\models--sshleifer--distilbart-cnn-12-6\\snapshots\\a4f8f3ea906ed274767e9906dbaede7531d660ff\"\n",
    "text_summary = pipeline(\"summarization\", model=model_path, torch_dtype=torch.float16)\n",
    "\n",
    "def summary(input_text):\n",
    "    chunks = chunk_text(input_text)\n",
    "    summaries = [text_summary(chunk)[0]['summary_text'] for chunk in chunks]\n",
    "    return \" \".join(summaries)"
   ]
  },
  {
   "cell_type": "code",
   "execution_count": 5,
   "metadata": {},
   "outputs": [],
   "source": [
    "\n",
    "def get_video_id(url):\n",
    "    \"\"\"\n",
    "    Extract the video ID from the YouTube URL.\n",
    "    \"\"\"\n",
    "    if 'youtube.com/watch?v=' in url:\n",
    "        return url.split('v=')[1].split('&')[0]\n",
    "    elif 'youtu.be/' in url:\n",
    "        return url.split('youtu.be/')[1]\n",
    "    else:\n",
    "        raise ValueError(\"Invalid YouTube URL\")\n"
   ]
  },
  {
   "cell_type": "code",
   "execution_count": 6,
   "metadata": {},
   "outputs": [],
   "source": [
    "def get_transcript(video_url):\n",
    "    \"\"\"\n",
    "    Fetches the transcript for a YouTube video and summarizes it.\n",
    "    \"\"\"\n",
    "    try:\n",
    "        video_id = get_video_id(video_url)\n",
    "        transcript = YouTubeTranscriptApi.get_transcript(video_id)\n",
    "        # Combine transcript entries into a single string\n",
    "        transcript_text = \" \".join(entry['text'] for entry in transcript)\n",
    "        summary_text = summary(transcript_text)\n",
    "        return summary_text\n",
    "    except TranscriptsDisabled:\n",
    "        return \"Transcripts are disabled for this video.\"\n",
    "    except NoTranscriptFound:\n",
    "        return \"No transcript found for this video.\"\n",
    "    except Exception as e:\n",
    "        return f\"An error occurred: {e}\""
   ]
  },
  {
   "cell_type": "code",
   "execution_count": 7,
   "metadata": {},
   "outputs": [],
   "source": [
    "def main():\n",
    "    \"\"\"\n",
    "    Main function to run the script.\n",
    "    \"\"\"\n",
    "    gr.close_all()\n",
    "\n",
    "    demo = gr.Interface(fn=get_transcript, inputs=[gr.Textbox(label=\"Input the YouTube URL summarize\", lines=1)],\n",
    "                     outputs=[gr.Textbox(label=\"Summarized the youtube URL\", lines=4)],\n",
    "                     title=\"@GenAI project 2 : YouTube URL Summarizer\",\n",
    "                     description=\"This Applicatio will be used to summarize the YouTube URL\")\n",
    "    demo.launch(share=True)\n"
   ]
  },
  {
   "cell_type": "code",
   "execution_count": 8,
   "metadata": {},
   "outputs": [
    {
     "name": "stdout",
     "output_type": "stream",
     "text": [
      "Closing server running on port: 7861\n",
      "* Running on local URL:  http://127.0.0.1:7861\n",
      "\n",
      "Could not create share link. Please check your internet connection or our status page: https://status.gradio.app.\n"
     ]
    },
    {
     "data": {
      "text/html": [
       "<div><iframe src=\"http://127.0.0.1:7861/\" width=\"100%\" height=\"500\" allow=\"autoplay; camera; microphone; clipboard-read; clipboard-write;\" frameborder=\"0\" allowfullscreen></iframe></div>"
      ],
      "text/plain": [
       "<IPython.core.display.HTML object>"
      ]
     },
     "metadata": {},
     "output_type": "display_data"
    }
   ],
   "source": [
    "if __name__ == \"__main__\":\n",
    "    main()"
   ]
  },
  {
   "cell_type": "code",
   "execution_count": null,
   "metadata": {},
   "outputs": [],
   "source": []
  }
 ],
 "metadata": {
  "kernelspec": {
   "display_name": "venv",
   "language": "python",
   "name": "python3"
  },
  "language_info": {
   "codemirror_mode": {
    "name": "ipython",
    "version": 3
   },
   "file_extension": ".py",
   "mimetype": "text/x-python",
   "name": "python",
   "nbconvert_exporter": "python",
   "pygments_lexer": "ipython3",
   "version": "3.11.0"
  }
 },
 "nbformat": 4,
 "nbformat_minor": 2
}
